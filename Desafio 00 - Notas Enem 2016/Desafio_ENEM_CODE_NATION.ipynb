{
 "cells": [
  {
   "cell_type": "code",
   "execution_count": 1,
   "metadata": {},
   "outputs": [],
   "source": [
    "import numpy as np\n",
    "import pandas as pd\n",
    "from sklearn import metrics\n",
    "df_train = pd.read_csv('train.csv', sep=\",\" , encoding=\"UTF8\" )\n",
    "df_test = pd.read_csv('test.csv', sep=\",\" , encoding=\"UTF8\" )"
   ]
  },
  {
   "cell_type": "code",
   "execution_count": 2,
   "metadata": {},
   "outputs": [
    {
     "data": {
      "text/plain": [
       "Index(['NU_INSCRICAO', 'CO_UF_RESIDENCIA', 'SG_UF_RESIDENCIA', 'NU_IDADE',\n",
       "       'TP_SEXO', 'TP_COR_RACA', 'TP_NACIONALIDADE', 'TP_ST_CONCLUSAO',\n",
       "       'TP_ANO_CONCLUIU', 'TP_ESCOLA', 'TP_ENSINO', 'IN_TREINEIRO',\n",
       "       'TP_DEPENDENCIA_ADM_ESC', 'IN_BAIXA_VISAO', 'IN_CEGUEIRA', 'IN_SURDEZ',\n",
       "       'IN_DISLEXIA', 'IN_DISCALCULIA', 'IN_SABATISTA', 'IN_GESTANTE',\n",
       "       'IN_IDOSO', 'TP_PRESENCA_CN', 'TP_PRESENCA_CH', 'TP_PRESENCA_LC',\n",
       "       'CO_PROVA_CN', 'CO_PROVA_CH', 'CO_PROVA_LC', 'CO_PROVA_MT',\n",
       "       'NU_NOTA_CN', 'NU_NOTA_CH', 'NU_NOTA_LC', 'TP_LINGUA',\n",
       "       'TP_STATUS_REDACAO', 'NU_NOTA_COMP1', 'NU_NOTA_COMP2', 'NU_NOTA_COMP3',\n",
       "       'NU_NOTA_COMP4', 'NU_NOTA_COMP5', 'NU_NOTA_REDACAO', 'Q001', 'Q002',\n",
       "       'Q006', 'Q024', 'Q025', 'Q026', 'Q027', 'Q047'],\n",
       "      dtype='object')"
      ]
     },
     "execution_count": 2,
     "metadata": {},
     "output_type": "execute_result"
    }
   ],
   "source": [
    "df_test.columns"
   ]
  },
  {
   "cell_type": "code",
   "execution_count": 3,
   "metadata": {},
   "outputs": [
    {
     "data": {
      "text/html": [
       "<div>\n",
       "<style scoped>\n",
       "    .dataframe tbody tr th:only-of-type {\n",
       "        vertical-align: middle;\n",
       "    }\n",
       "\n",
       "    .dataframe tbody tr th {\n",
       "        vertical-align: top;\n",
       "    }\n",
       "\n",
       "    .dataframe thead th {\n",
       "        text-align: right;\n",
       "    }\n",
       "</style>\n",
       "<table border=\"1\" class=\"dataframe\">\n",
       "  <thead>\n",
       "    <tr style=\"text-align: right;\">\n",
       "      <th></th>\n",
       "      <th>Unnamed: 0</th>\n",
       "      <th>NU_ANO</th>\n",
       "      <th>CO_MUNICIPIO_RESIDENCIA</th>\n",
       "      <th>CO_UF_RESIDENCIA</th>\n",
       "      <th>NU_IDADE</th>\n",
       "      <th>TP_ESTADO_CIVIL</th>\n",
       "      <th>TP_COR_RACA</th>\n",
       "      <th>TP_NACIONALIDADE</th>\n",
       "      <th>CO_MUNICIPIO_NASCIMENTO</th>\n",
       "      <th>CO_UF_NASCIMENTO</th>\n",
       "      <th>...</th>\n",
       "      <th>Q032</th>\n",
       "      <th>Q033</th>\n",
       "      <th>Q034</th>\n",
       "      <th>Q035</th>\n",
       "      <th>Q036</th>\n",
       "      <th>Q037</th>\n",
       "      <th>Q038</th>\n",
       "      <th>Q039</th>\n",
       "      <th>Q040</th>\n",
       "      <th>Q041</th>\n",
       "    </tr>\n",
       "  </thead>\n",
       "  <tbody>\n",
       "    <tr>\n",
       "      <td>Unnamed: 0</td>\n",
       "      <td>1.000000</td>\n",
       "      <td>NaN</td>\n",
       "      <td>-0.007258</td>\n",
       "      <td>-0.007250</td>\n",
       "      <td>-0.007201</td>\n",
       "      <td>0.003678</td>\n",
       "      <td>0.005707</td>\n",
       "      <td>-0.006217</td>\n",
       "      <td>-0.004527</td>\n",
       "      <td>-0.004615</td>\n",
       "      <td>...</td>\n",
       "      <td>0.001520</td>\n",
       "      <td>0.018074</td>\n",
       "      <td>0.001693</td>\n",
       "      <td>-0.008141</td>\n",
       "      <td>0.002724</td>\n",
       "      <td>-0.004914</td>\n",
       "      <td>0.003906</td>\n",
       "      <td>0.001002</td>\n",
       "      <td>-0.010967</td>\n",
       "      <td>-0.029937</td>\n",
       "    </tr>\n",
       "    <tr>\n",
       "      <td>NU_ANO</td>\n",
       "      <td>NaN</td>\n",
       "      <td>NaN</td>\n",
       "      <td>NaN</td>\n",
       "      <td>NaN</td>\n",
       "      <td>NaN</td>\n",
       "      <td>NaN</td>\n",
       "      <td>NaN</td>\n",
       "      <td>NaN</td>\n",
       "      <td>NaN</td>\n",
       "      <td>NaN</td>\n",
       "      <td>...</td>\n",
       "      <td>NaN</td>\n",
       "      <td>NaN</td>\n",
       "      <td>NaN</td>\n",
       "      <td>NaN</td>\n",
       "      <td>NaN</td>\n",
       "      <td>NaN</td>\n",
       "      <td>NaN</td>\n",
       "      <td>NaN</td>\n",
       "      <td>NaN</td>\n",
       "      <td>NaN</td>\n",
       "    </tr>\n",
       "    <tr>\n",
       "      <td>CO_MUNICIPIO_RESIDENCIA</td>\n",
       "      <td>-0.007258</td>\n",
       "      <td>NaN</td>\n",
       "      <td>1.000000</td>\n",
       "      <td>0.999865</td>\n",
       "      <td>-0.002296</td>\n",
       "      <td>0.020813</td>\n",
       "      <td>-0.236178</td>\n",
       "      <td>0.009710</td>\n",
       "      <td>0.865294</td>\n",
       "      <td>0.865216</td>\n",
       "      <td>...</td>\n",
       "      <td>0.004115</td>\n",
       "      <td>-0.030114</td>\n",
       "      <td>-0.050304</td>\n",
       "      <td>-0.050138</td>\n",
       "      <td>-0.040668</td>\n",
       "      <td>-0.013479</td>\n",
       "      <td>-0.032710</td>\n",
       "      <td>-0.094862</td>\n",
       "      <td>-0.077456</td>\n",
       "      <td>-0.033205</td>\n",
       "    </tr>\n",
       "    <tr>\n",
       "      <td>CO_UF_RESIDENCIA</td>\n",
       "      <td>-0.007250</td>\n",
       "      <td>NaN</td>\n",
       "      <td>0.999865</td>\n",
       "      <td>1.000000</td>\n",
       "      <td>-0.002017</td>\n",
       "      <td>0.020947</td>\n",
       "      <td>-0.234786</td>\n",
       "      <td>0.009433</td>\n",
       "      <td>0.864791</td>\n",
       "      <td>0.864919</td>\n",
       "      <td>...</td>\n",
       "      <td>0.003968</td>\n",
       "      <td>-0.030345</td>\n",
       "      <td>-0.050096</td>\n",
       "      <td>-0.049292</td>\n",
       "      <td>-0.040688</td>\n",
       "      <td>-0.013647</td>\n",
       "      <td>-0.032467</td>\n",
       "      <td>-0.094113</td>\n",
       "      <td>-0.076838</td>\n",
       "      <td>-0.033149</td>\n",
       "    </tr>\n",
       "    <tr>\n",
       "      <td>NU_IDADE</td>\n",
       "      <td>-0.007201</td>\n",
       "      <td>NaN</td>\n",
       "      <td>-0.002296</td>\n",
       "      <td>-0.002017</td>\n",
       "      <td>1.000000</td>\n",
       "      <td>0.533462</td>\n",
       "      <td>0.009675</td>\n",
       "      <td>-0.017713</td>\n",
       "      <td>-0.030711</td>\n",
       "      <td>-0.030259</td>\n",
       "      <td>...</td>\n",
       "      <td>-0.044791</td>\n",
       "      <td>0.025077</td>\n",
       "      <td>-0.030681</td>\n",
       "      <td>0.012739</td>\n",
       "      <td>0.021949</td>\n",
       "      <td>-0.003569</td>\n",
       "      <td>-0.035306</td>\n",
       "      <td>-0.069973</td>\n",
       "      <td>-0.010988</td>\n",
       "      <td>0.160526</td>\n",
       "    </tr>\n",
       "    <tr>\n",
       "      <td>...</td>\n",
       "      <td>...</td>\n",
       "      <td>...</td>\n",
       "      <td>...</td>\n",
       "      <td>...</td>\n",
       "      <td>...</td>\n",
       "      <td>...</td>\n",
       "      <td>...</td>\n",
       "      <td>...</td>\n",
       "      <td>...</td>\n",
       "      <td>...</td>\n",
       "      <td>...</td>\n",
       "      <td>...</td>\n",
       "      <td>...</td>\n",
       "      <td>...</td>\n",
       "      <td>...</td>\n",
       "      <td>...</td>\n",
       "      <td>...</td>\n",
       "      <td>...</td>\n",
       "      <td>...</td>\n",
       "      <td>...</td>\n",
       "      <td>...</td>\n",
       "    </tr>\n",
       "    <tr>\n",
       "      <td>Q037</td>\n",
       "      <td>-0.004914</td>\n",
       "      <td>NaN</td>\n",
       "      <td>-0.013479</td>\n",
       "      <td>-0.013647</td>\n",
       "      <td>-0.003569</td>\n",
       "      <td>0.002294</td>\n",
       "      <td>0.086642</td>\n",
       "      <td>0.032588</td>\n",
       "      <td>-0.024174</td>\n",
       "      <td>-0.024201</td>\n",
       "      <td>...</td>\n",
       "      <td>0.220839</td>\n",
       "      <td>0.225791</td>\n",
       "      <td>0.245757</td>\n",
       "      <td>0.202230</td>\n",
       "      <td>0.387722</td>\n",
       "      <td>1.000000</td>\n",
       "      <td>0.496678</td>\n",
       "      <td>0.254418</td>\n",
       "      <td>0.270380</td>\n",
       "      <td>0.187921</td>\n",
       "    </tr>\n",
       "    <tr>\n",
       "      <td>Q038</td>\n",
       "      <td>0.003906</td>\n",
       "      <td>NaN</td>\n",
       "      <td>-0.032710</td>\n",
       "      <td>-0.032467</td>\n",
       "      <td>-0.035306</td>\n",
       "      <td>-0.014725</td>\n",
       "      <td>0.069298</td>\n",
       "      <td>0.024112</td>\n",
       "      <td>-0.038666</td>\n",
       "      <td>-0.038305</td>\n",
       "      <td>...</td>\n",
       "      <td>0.159887</td>\n",
       "      <td>0.223508</td>\n",
       "      <td>0.215767</td>\n",
       "      <td>0.142610</td>\n",
       "      <td>0.378421</td>\n",
       "      <td>0.496678</td>\n",
       "      <td>1.000000</td>\n",
       "      <td>0.374424</td>\n",
       "      <td>0.259947</td>\n",
       "      <td>0.219529</td>\n",
       "    </tr>\n",
       "    <tr>\n",
       "      <td>Q039</td>\n",
       "      <td>0.001002</td>\n",
       "      <td>NaN</td>\n",
       "      <td>-0.094862</td>\n",
       "      <td>-0.094113</td>\n",
       "      <td>-0.069973</td>\n",
       "      <td>-0.066346</td>\n",
       "      <td>0.046830</td>\n",
       "      <td>0.011327</td>\n",
       "      <td>-0.097273</td>\n",
       "      <td>-0.096666</td>\n",
       "      <td>...</td>\n",
       "      <td>0.144264</td>\n",
       "      <td>0.206979</td>\n",
       "      <td>0.189252</td>\n",
       "      <td>0.225724</td>\n",
       "      <td>0.270343</td>\n",
       "      <td>0.254418</td>\n",
       "      <td>0.374424</td>\n",
       "      <td>1.000000</td>\n",
       "      <td>0.305357</td>\n",
       "      <td>0.262031</td>\n",
       "    </tr>\n",
       "    <tr>\n",
       "      <td>Q040</td>\n",
       "      <td>-0.010967</td>\n",
       "      <td>NaN</td>\n",
       "      <td>-0.077456</td>\n",
       "      <td>-0.076838</td>\n",
       "      <td>-0.010988</td>\n",
       "      <td>-0.022736</td>\n",
       "      <td>0.053556</td>\n",
       "      <td>0.014847</td>\n",
       "      <td>-0.081490</td>\n",
       "      <td>-0.080963</td>\n",
       "      <td>...</td>\n",
       "      <td>0.215292</td>\n",
       "      <td>0.176028</td>\n",
       "      <td>0.243190</td>\n",
       "      <td>0.179292</td>\n",
       "      <td>0.177025</td>\n",
       "      <td>0.270380</td>\n",
       "      <td>0.259947</td>\n",
       "      <td>0.305357</td>\n",
       "      <td>1.000000</td>\n",
       "      <td>0.306438</td>\n",
       "    </tr>\n",
       "    <tr>\n",
       "      <td>Q041</td>\n",
       "      <td>-0.029937</td>\n",
       "      <td>NaN</td>\n",
       "      <td>-0.033205</td>\n",
       "      <td>-0.033149</td>\n",
       "      <td>0.160526</td>\n",
       "      <td>0.108771</td>\n",
       "      <td>0.020966</td>\n",
       "      <td>0.008132</td>\n",
       "      <td>-0.042237</td>\n",
       "      <td>-0.042134</td>\n",
       "      <td>...</td>\n",
       "      <td>0.233832</td>\n",
       "      <td>0.205239</td>\n",
       "      <td>0.154743</td>\n",
       "      <td>0.113574</td>\n",
       "      <td>0.214736</td>\n",
       "      <td>0.187921</td>\n",
       "      <td>0.219529</td>\n",
       "      <td>0.262031</td>\n",
       "      <td>0.306438</td>\n",
       "      <td>1.000000</td>\n",
       "    </tr>\n",
       "  </tbody>\n",
       "</table>\n",
       "<p>107 rows × 107 columns</p>\n",
       "</div>"
      ],
      "text/plain": [
       "                         Unnamed: 0  NU_ANO  CO_MUNICIPIO_RESIDENCIA  \\\n",
       "Unnamed: 0                 1.000000     NaN                -0.007258   \n",
       "NU_ANO                          NaN     NaN                      NaN   \n",
       "CO_MUNICIPIO_RESIDENCIA   -0.007258     NaN                 1.000000   \n",
       "CO_UF_RESIDENCIA          -0.007250     NaN                 0.999865   \n",
       "NU_IDADE                  -0.007201     NaN                -0.002296   \n",
       "...                             ...     ...                      ...   \n",
       "Q037                      -0.004914     NaN                -0.013479   \n",
       "Q038                       0.003906     NaN                -0.032710   \n",
       "Q039                       0.001002     NaN                -0.094862   \n",
       "Q040                      -0.010967     NaN                -0.077456   \n",
       "Q041                      -0.029937     NaN                -0.033205   \n",
       "\n",
       "                         CO_UF_RESIDENCIA  NU_IDADE  TP_ESTADO_CIVIL  \\\n",
       "Unnamed: 0                      -0.007250 -0.007201         0.003678   \n",
       "NU_ANO                                NaN       NaN              NaN   \n",
       "CO_MUNICIPIO_RESIDENCIA          0.999865 -0.002296         0.020813   \n",
       "CO_UF_RESIDENCIA                 1.000000 -0.002017         0.020947   \n",
       "NU_IDADE                        -0.002017  1.000000         0.533462   \n",
       "...                                   ...       ...              ...   \n",
       "Q037                            -0.013647 -0.003569         0.002294   \n",
       "Q038                            -0.032467 -0.035306        -0.014725   \n",
       "Q039                            -0.094113 -0.069973        -0.066346   \n",
       "Q040                            -0.076838 -0.010988        -0.022736   \n",
       "Q041                            -0.033149  0.160526         0.108771   \n",
       "\n",
       "                         TP_COR_RACA  TP_NACIONALIDADE  \\\n",
       "Unnamed: 0                  0.005707         -0.006217   \n",
       "NU_ANO                           NaN               NaN   \n",
       "CO_MUNICIPIO_RESIDENCIA    -0.236178          0.009710   \n",
       "CO_UF_RESIDENCIA           -0.234786          0.009433   \n",
       "NU_IDADE                    0.009675         -0.017713   \n",
       "...                              ...               ...   \n",
       "Q037                        0.086642          0.032588   \n",
       "Q038                        0.069298          0.024112   \n",
       "Q039                        0.046830          0.011327   \n",
       "Q040                        0.053556          0.014847   \n",
       "Q041                        0.020966          0.008132   \n",
       "\n",
       "                         CO_MUNICIPIO_NASCIMENTO  CO_UF_NASCIMENTO  ...  \\\n",
       "Unnamed: 0                             -0.004527         -0.004615  ...   \n",
       "NU_ANO                                       NaN               NaN  ...   \n",
       "CO_MUNICIPIO_RESIDENCIA                 0.865294          0.865216  ...   \n",
       "CO_UF_RESIDENCIA                        0.864791          0.864919  ...   \n",
       "NU_IDADE                               -0.030711         -0.030259  ...   \n",
       "...                                          ...               ...  ...   \n",
       "Q037                                   -0.024174         -0.024201  ...   \n",
       "Q038                                   -0.038666         -0.038305  ...   \n",
       "Q039                                   -0.097273         -0.096666  ...   \n",
       "Q040                                   -0.081490         -0.080963  ...   \n",
       "Q041                                   -0.042237         -0.042134  ...   \n",
       "\n",
       "                             Q032      Q033      Q034      Q035      Q036  \\\n",
       "Unnamed: 0               0.001520  0.018074  0.001693 -0.008141  0.002724   \n",
       "NU_ANO                        NaN       NaN       NaN       NaN       NaN   \n",
       "CO_MUNICIPIO_RESIDENCIA  0.004115 -0.030114 -0.050304 -0.050138 -0.040668   \n",
       "CO_UF_RESIDENCIA         0.003968 -0.030345 -0.050096 -0.049292 -0.040688   \n",
       "NU_IDADE                -0.044791  0.025077 -0.030681  0.012739  0.021949   \n",
       "...                           ...       ...       ...       ...       ...   \n",
       "Q037                     0.220839  0.225791  0.245757  0.202230  0.387722   \n",
       "Q038                     0.159887  0.223508  0.215767  0.142610  0.378421   \n",
       "Q039                     0.144264  0.206979  0.189252  0.225724  0.270343   \n",
       "Q040                     0.215292  0.176028  0.243190  0.179292  0.177025   \n",
       "Q041                     0.233832  0.205239  0.154743  0.113574  0.214736   \n",
       "\n",
       "                             Q037      Q038      Q039      Q040      Q041  \n",
       "Unnamed: 0              -0.004914  0.003906  0.001002 -0.010967 -0.029937  \n",
       "NU_ANO                        NaN       NaN       NaN       NaN       NaN  \n",
       "CO_MUNICIPIO_RESIDENCIA -0.013479 -0.032710 -0.094862 -0.077456 -0.033205  \n",
       "CO_UF_RESIDENCIA        -0.013647 -0.032467 -0.094113 -0.076838 -0.033149  \n",
       "NU_IDADE                -0.003569 -0.035306 -0.069973 -0.010988  0.160526  \n",
       "...                           ...       ...       ...       ...       ...  \n",
       "Q037                     1.000000  0.496678  0.254418  0.270380  0.187921  \n",
       "Q038                     0.496678  1.000000  0.374424  0.259947  0.219529  \n",
       "Q039                     0.254418  0.374424  1.000000  0.305357  0.262031  \n",
       "Q040                     0.270380  0.259947  0.305357  1.000000  0.306438  \n",
       "Q041                     0.187921  0.219529  0.262031  0.306438  1.000000  \n",
       "\n",
       "[107 rows x 107 columns]"
      ]
     },
     "execution_count": 3,
     "metadata": {},
     "output_type": "execute_result"
    }
   ],
   "source": [
    "df_train.corr()"
   ]
  },
  {
   "cell_type": "code",
   "execution_count": 4,
   "metadata": {},
   "outputs": [],
   "source": [
    "import matplotlib.pyplot as plt\n",
    "import seaborn as sns\n",
    "plt.style.use('ggplot')\n",
    "%matplotlib inline\n",
    "features = [\n",
    "    'NU_NOTA_CN',\n",
    "    'NU_NOTA_CH',\n",
    "    'NU_NOTA_LC',\n",
    "    'NU_NOTA_REDACAO',\n",
    "    'NU_NOTA_COMP1',\n",
    "    'NU_NOTA_COMP2',\n",
    "    'NU_NOTA_COMP3',\n",
    "    'NU_NOTA_COMP4',\n",
    "    'NU_NOTA_COMP5']\n",
    "features_corr = [\n",
    "    'NU_NOTA_MT',\n",
    "    'NU_NOTA_CN',\n",
    "    'NU_NOTA_CH',\n",
    "    'NU_NOTA_LC',\n",
    "    'NU_NOTA_REDACAO',\n",
    "    'NU_NOTA_COMP1',\n",
    "    'NU_NOTA_COMP2',\n",
    "    'NU_NOTA_COMP3',\n",
    "    'NU_NOTA_COMP4',\n",
    "    'NU_NOTA_COMP5']"
   ]
  },
  {
   "cell_type": "code",
   "execution_count": 5,
   "metadata": {},
   "outputs": [
    {
     "data": {
      "text/plain": [
       "NU_NOTA_CN         3389\n",
       "NU_NOTA_CH         3389\n",
       "NU_NOTA_LC         3597\n",
       "NU_NOTA_REDACAO    3597\n",
       "NU_NOTA_COMP1      3597\n",
       "NU_NOTA_COMP2      3597\n",
       "NU_NOTA_COMP3      3597\n",
       "NU_NOTA_COMP4      3597\n",
       "NU_NOTA_COMP5      3597\n",
       "dtype: int64"
      ]
     },
     "execution_count": 5,
     "metadata": {},
     "output_type": "execute_result"
    }
   ],
   "source": [
    "df_train[features].isnull().sum()"
   ]
  },
  {
   "cell_type": "code",
   "execution_count": 6,
   "metadata": {},
   "outputs": [
    {
     "data": {
      "text/plain": [
       "<matplotlib.axes._subplots.AxesSubplot at 0x23c32387f88>"
      ]
     },
     "execution_count": 6,
     "metadata": {},
     "output_type": "execute_result"
    },
    {
     "data": {
      "image/png": "[encoded data removed]",
      "text/plain": [
       "<Figure size 792x576 with 2 Axes>"
      ]
     },
     "metadata": {
      "needs_background": "light"
     },
     "output_type": "display_data"
    }
   ],
   "source": [
    "corr = df_train[features_corr].corr()\n",
    "ax = plt.subplots(figsize=(11, 8))\n",
    "sns.heatmap(corr,  annot=True, annot_kws={\"size\": 10})"
   ]
  },
  {
   "cell_type": "code",
   "execution_count": 7,
   "metadata": {},
   "outputs": [
    {
     "data": {
      "image/png": "[encoded data removed]",
      "text/plain": [
       "<Figure size 432x288 with 1 Axes>"
      ]
     },
     "metadata": {
      "needs_background": "light"
     },
     "output_type": "display_data"
    }
   ],
   "source": [
    "x0 = df_train['NU_NOTA_CN'].fillna(0)\n",
    "x1 = df_test['NU_NOTA_CN'].fillna(0)\n",
    "sns.distplot(x0)\n",
    "sns.distplot(x1)\n",
    "plt.legend(labels=['TRAIN','TEST'], ncol=2, loc='upper left');"
   ]
  },
  {
   "cell_type": "code",
   "execution_count": 8,
   "metadata": {},
   "outputs": [],
   "source": [
    "# Seleciona somente linhas com valores nesses 4 quesitos a baixo na base de train\n",
    "df_train = df_train.loc[\n",
    "      (df_train['NU_NOTA_CN'].notnull())  & (df_train['NU_NOTA_CN'] != 0) & (df_train['NU_NOTA_CH'].notnull())      & (df_train['NU_NOTA_CH'] != 0) \n",
    "    & (df_train['NU_NOTA_LC'].notnull())  & (df_train['NU_NOTA_LC'] != 0) & (df_train['NU_NOTA_REDACAO'].notnull()) & (df_train['NU_NOTA_REDACAO'] != 0)    \n",
    "]"
   ]
  },
  {
   "cell_type": "code",
   "execution_count": 9,
   "metadata": {},
   "outputs": [
    {
     "data": {
      "image/png": "[encoded data removed]",
      "text/plain": [
       "<Figure size 432x288 with 1 Axes>"
      ]
     },
     "metadata": {
      "needs_background": "light"
     },
     "output_type": "display_data"
    }
   ],
   "source": [
    "x0 = df_train['NU_NOTA_CN'].fillna(0)\n",
    "x1 = df_test['NU_NOTA_CN'].fillna(0)\n",
    "sns.distplot(x0)\n",
    "sns.distplot(x1)\n",
    "plt.legend(labels=['TRAIN','TEST'], ncol=2, loc='upper left');"
   ]
  },
  {
   "cell_type": "code",
   "execution_count": 10,
   "metadata": {},
   "outputs": [],
   "source": [
    "df_test = df_test.loc[\n",
    "      (df_test['NU_NOTA_CN'].notnull())  & (df_test['NU_NOTA_CN'] != 0) & (df_test['NU_NOTA_CH'].notnull())      & (df_test['NU_NOTA_CH'] != 0) \n",
    "    & (df_test['NU_NOTA_LC'].notnull())  & (df_test['NU_NOTA_LC'] != 0) & (df_test['NU_NOTA_REDACAO'].notnull()) & (df_test['NU_NOTA_REDACAO'] != 0)    \n",
    "]"
   ]
  },
  {
   "cell_type": "code",
   "execution_count": 11,
   "metadata": {},
   "outputs": [
    {
     "data": {
      "text/plain": [
       "NU_NOTA_CN         0\n",
       "NU_NOTA_CH         0\n",
       "NU_NOTA_LC         0\n",
       "NU_NOTA_REDACAO    0\n",
       "NU_NOTA_COMP1      0\n",
       "NU_NOTA_COMP2      0\n",
       "NU_NOTA_COMP3      0\n",
       "NU_NOTA_COMP4      0\n",
       "NU_NOTA_COMP5      0\n",
       "dtype: int64"
      ]
     },
     "execution_count": 11,
     "metadata": {},
     "output_type": "execute_result"
    }
   ],
   "source": [
    "df_test[features].isnull().sum()"
   ]
  },
  {
   "cell_type": "code",
   "execution_count": 12,
   "metadata": {},
   "outputs": [
    {
     "data": {
      "image/png": "[encoded data removed]",
      "text/plain": [
       "<Figure size 432x288 with 1 Axes>"
      ]
     },
     "metadata": {
      "needs_background": "light"
     },
     "output_type": "display_data"
    }
   ],
   "source": [
    "x0 = df_train['NU_NOTA_CN'].fillna(0)\n",
    "x1 = df_test['NU_NOTA_CN'].fillna(0)\n",
    "sns.distplot(x0)\n",
    "sns.distplot(x1)\n",
    "plt.legend(labels=['TRAIN','TEST'], ncol=2, loc='upper left');"
   ]
  },
  {
   "cell_type": "code",
   "execution_count": 13,
   "metadata": {},
   "outputs": [],
   "source": [
    "df_test['NU_NOTA_COMP1'].fillna(0,inplace=True)\n",
    "df_test['NU_NOTA_COMP2'].fillna(0,inplace=True)\n",
    "df_test['NU_NOTA_COMP3'].fillna(0,inplace=True)\n",
    "df_test['NU_NOTA_COMP4'].fillna(0,inplace=True)\n",
    "df_test['NU_NOTA_COMP5'].fillna(0,inplace=True)\n",
    "df_train['NU_NOTA_COMP1'].fillna(0,inplace=True)\n",
    "df_train['NU_NOTA_COMP2'].fillna(0,inplace=True)\n",
    "df_train['NU_NOTA_COMP3'].fillna(0,inplace=True)\n",
    "df_train['NU_NOTA_COMP4'].fillna(0,inplace=True)\n",
    "df_train['NU_NOTA_COMP5'].fillna(0,inplace=True)"
   ]
  },
  {
   "cell_type": "code",
   "execution_count": 14,
   "metadata": {},
   "outputs": [],
   "source": [
    "y_train = df_train['NU_NOTA_MT']\n",
    "x_train = df_train[features]\n",
    "x_test = df_test[features]\n",
    "from sklearn.preprocessing import StandardScaler\n",
    "sc = StandardScaler()  \n",
    "x_train = sc.fit_transform(x_train)  \n",
    "x_test = sc.transform(x_test)"
   ]
  },
  {
   "cell_type": "code",
   "execution_count": 15,
   "metadata": {},
   "outputs": [],
   "source": [
    "from sklearn.ensemble import RandomForestRegressor\n",
    "regressor = RandomForestRegressor( \n",
    "           criterion='mae', \n",
    "           max_depth=8,\n",
    "           max_leaf_nodes=None,\n",
    "           min_impurity_split=None,\n",
    "           min_samples_leaf=1,\n",
    "           min_samples_split=2,\n",
    "           min_weight_fraction_leaf=0.0,\n",
    "           n_estimators= 500,\n",
    "           n_jobs=-1,\n",
    "           random_state=0,\n",
    "           verbose=0,\n",
    "           warm_start=False\n",
    ")"
   ]
  },
  {
   "cell_type": "code",
   "execution_count": 16,
   "metadata": {},
   "outputs": [
    {
     "data": {
      "text/plain": [
       "RandomForestRegressor(bootstrap=True, criterion='mae', max_depth=8,\n",
       "                      max_features='auto', max_leaf_nodes=None,\n",
       "                      min_impurity_decrease=0.0, min_impurity_split=None,\n",
       "                      min_samples_leaf=1, min_samples_split=2,\n",
       "                      min_weight_fraction_leaf=0.0, n_estimators=500, n_jobs=-1,\n",
       "                      oob_score=False, random_state=0, verbose=0,\n",
       "                      warm_start=False)"
      ]
     },
     "execution_count": 16,
     "metadata": {},
     "output_type": "execute_result"
    }
   ],
   "source": [
    "regressor.fit(x_train, y_train)"
   ]
  },
  {
   "cell_type": "code",
   "execution_count": 17,
   "metadata": {},
   "outputs": [],
   "source": [
    "y_pred_test = regressor.predict(x_test)\n",
    "#y_pred_train = regressor.predict(x_train)"
   ]
  },
  {
   "cell_type": "code",
   "execution_count": 18,
   "metadata": {},
   "outputs": [
    {
     "name": "stdout",
     "output_type": "stream",
     "text": [
      "[417.6684 442.114  591.9343 ... 470.5929 696.6326 445.5773]\n"
     ]
    }
   ],
   "source": [
    "print(y_pred_test)"
   ]
  },
  {
   "cell_type": "code",
   "execution_count": 19,
   "metadata": {},
   "outputs": [
    {
     "data": {
      "text/plain": [
       "numpy.ndarray"
      ]
     },
     "execution_count": 19,
     "metadata": {},
     "output_type": "execute_result"
    }
   ],
   "source": [
    "type(y_pred_test)"
   ]
  },
  {
   "cell_type": "raw",
   "metadata": {},
   "source": []
  },
  {
   "cell_type": "code",
   "execution_count": null,
   "metadata": {},
   "outputs": [],
   "source": [
    "print(nota_mt)"
   ]
  },
  {
   "cell_type": "code",
   "execution_count": 20,
   "metadata": {},
   "outputs": [
    {
     "data": {
      "text/html": [
       "<div>\n",
       "<style scoped>\n",
       "    .dataframe tbody tr th:only-of-type {\n",
       "        vertical-align: middle;\n",
       "    }\n",
       "\n",
       "    .dataframe tbody tr th {\n",
       "        vertical-align: top;\n",
       "    }\n",
       "\n",
       "    .dataframe thead th {\n",
       "        text-align: right;\n",
       "    }\n",
       "</style>\n",
       "<table border=\"1\" class=\"dataframe\">\n",
       "  <thead>\n",
       "    <tr style=\"text-align: right;\">\n",
       "      <th></th>\n",
       "      <th>NU_NOTA_MT</th>\n",
       "    </tr>\n",
       "    <tr>\n",
       "      <th>RollNumber</th>\n",
       "      <th></th>\n",
       "    </tr>\n",
       "  </thead>\n",
       "  <tbody>\n",
       "    <tr>\n",
       "      <td>ABC0000000001AB</td>\n",
       "      <td>417.6684</td>\n",
       "    </tr>\n",
       "    <tr>\n",
       "      <td>ABC0000000002AB</td>\n",
       "      <td>442.1140</td>\n",
       "    </tr>\n",
       "    <tr>\n",
       "      <td>ABC0000000003AB</td>\n",
       "      <td>591.9343</td>\n",
       "    </tr>\n",
       "    <tr>\n",
       "      <td>ABC0000000004AB</td>\n",
       "      <td>506.7389</td>\n",
       "    </tr>\n",
       "    <tr>\n",
       "      <td>ABC0000000005AB</td>\n",
       "      <td>467.0751</td>\n",
       "    </tr>\n",
       "    <tr>\n",
       "      <td>...</td>\n",
       "      <td>...</td>\n",
       "    </tr>\n",
       "    <tr>\n",
       "      <td>ABC0000003282AB</td>\n",
       "      <td>511.9339</td>\n",
       "    </tr>\n",
       "    <tr>\n",
       "      <td>ABC0000003283AB</td>\n",
       "      <td>445.4127</td>\n",
       "    </tr>\n",
       "    <tr>\n",
       "      <td>ABC0000003284AB</td>\n",
       "      <td>470.5929</td>\n",
       "    </tr>\n",
       "    <tr>\n",
       "      <td>ABC0000003285AB</td>\n",
       "      <td>696.6326</td>\n",
       "    </tr>\n",
       "    <tr>\n",
       "      <td>ABC0000003286AB</td>\n",
       "      <td>445.5773</td>\n",
       "    </tr>\n",
       "  </tbody>\n",
       "</table>\n",
       "<p>3286 rows × 1 columns</p>\n",
       "</div>"
      ],
      "text/plain": [
       "                 NU_NOTA_MT\n",
       "RollNumber                 \n",
       "ABC0000000001AB    417.6684\n",
       "ABC0000000002AB    442.1140\n",
       "ABC0000000003AB    591.9343\n",
       "ABC0000000004AB    506.7389\n",
       "ABC0000000005AB    467.0751\n",
       "...                     ...\n",
       "ABC0000003282AB    511.9339\n",
       "ABC0000003283AB    445.4127\n",
       "ABC0000003284AB    470.5929\n",
       "ABC0000003285AB    696.6326\n",
       "ABC0000003286AB    445.5773\n",
       "\n",
       "[3286 rows x 1 columns]"
      ]
     },
     "execution_count": 20,
     "metadata": {},
     "output_type": "execute_result"
    }
   ],
   "source": [
    "nota_mt = pd.DataFrame({'NU_NOTA_MT': y_pred_test})\n",
    "nota_mt['RollNumber'] = [f'ABC{x:010}AB' for x in range(1, len(nota_mt) + 1)]\n",
    "nota_mt.set_index('RollNumber')"
   ]
  },
  {
   "cell_type": "code",
   "execution_count": 21,
   "metadata": {},
   "outputs": [],
   "source": [
    "df_test['RollNumber'] = [f'ABC{x:010}AB' for x in range(1, len(df_test) + 1)]"
   ]
  },
  {
   "cell_type": "code",
   "execution_count": 25,
   "metadata": {},
   "outputs": [],
   "source": [
    "resultado = df_test.set_index('RollNumber').join(nota_mt.set_index('RollNumber'))"
   ]
  },
  {
   "cell_type": "code",
   "execution_count": 28,
   "metadata": {
    "scrolled": true
   },
   "outputs": [],
   "source": [
    "fim = resultado[['NU_INSCRICAO','NU_NOTA_MT']]"
   ]
  },
  {
   "cell_type": "code",
   "execution_count": 29,
   "metadata": {},
   "outputs": [],
   "source": [
    "import csv\n",
    "\n",
    "fim.to_csv(r'.\\ans.csv', index = False)"
   ]
  },
  {
   "cell_type": "code",
   "execution_count": null,
   "metadata": {},
   "outputs": [],
   "source": [
    "\n"
   ]
  },
  {
   "cell_type": "code",
   "execution_count": null,
   "metadata": {},
   "outputs": [],
   "source": []
  },
  {
   "cell_type": "code",
   "execution_count": null,
   "metadata": {},
   "outputs": [],
   "source": []
  },
  {
   "cell_type": "code",
   "execution_count": null,
   "metadata": {},
   "outputs": [],
   "source": []
  }
 ],
 "metadata": {
  "kernelspec": {
   "display_name": "Python 3",
   "language": "python",
   "name": "python3"
  },
  "language_info": {
   "codemirror_mode": {
    "name": "ipython",
    "version": 3
   },
   "file_extension": ".py",
   "mimetype": "text/x-python",
   "name": "python",
   "nbconvert_exporter": "python",
   "pygments_lexer": "ipython3",
   "version": "3.7.4"
  }
 },
 "nbformat": 4,
 "nbformat_minor": 2
}
